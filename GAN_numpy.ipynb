{
  "nbformat": 4,
  "nbformat_minor": 0,
  "metadata": {
    "colab": {
      "name": "GAN_numpy.ipynb",
      "version": "0.3.2",
      "provenance": [],
      "collapsed_sections": []
    },
    "kernelspec": {
      "name": "python3",
      "display_name": "Python 3"
    }
  },
  "cells": [
    {
      "cell_type": "markdown",
      "metadata": {
        "id": "jp24Q5M5rcc6",
        "colab_type": "text"
      },
      "source": [
        "# Importing the required libraries."
      ]
    },
    {
      "cell_type": "code",
      "metadata": {
        "id": "bBTvR7Dtqsvr",
        "colab_type": "code",
        "colab": {}
      },
      "source": [
        "import numpy as np,sys,time\n",
        "from sklearn.utils import shuffle\n",
        "import matplotlib.pyplot as plt\n",
        "import matplotlib\n",
        "from tensorflow.examples.tutorials.mnist import input_data\n",
        "import os\n",
        "import numpy as np,sys\n",
        "from sklearn.utils import shuffle\n",
        "import matplotlib.pyplot as plt\n",
        "import matplotlib.gridspec as gridspec"
      ],
      "execution_count": 0,
      "outputs": []
    },
    {
      "cell_type": "markdown",
      "metadata": {
        "id": "-_7HG7m30Ja2",
        "colab_type": "text"
      },
      "source": [
        "### Taking a random seed as input to get the same result everytime."
      ]
    },
    {
      "cell_type": "code",
      "metadata": {
        "id": "kNJsLmYjrZ6m",
        "colab_type": "code",
        "outputId": "22b630c0-1e01-4b82-a61c-22dd827fae46",
        "colab": {
          "base_uri": "https://localhost:8080/",
          "height": 34
        }
      },
      "source": [
        "random_number=int(input(\"Please input a random number to seed: \"))\n",
        "np.random.seed(random_number)"
      ],
      "execution_count": 2,
      "outputs": [
        {
          "output_type": "stream",
          "text": [
            "Please input a random number to seed: 8\n"
          ],
          "name": "stdout"
        }
      ]
    },
    {
      "cell_type": "markdown",
      "metadata": {
        "id": "8BH9PxWf0sko",
        "colab_type": "text"
      },
      "source": [
        "### Defining a ReLU function."
      ]
    },
    {
      "cell_type": "code",
      "metadata": {
        "id": "yckOMKAH0i26",
        "colab_type": "code",
        "colab": {}
      },
      "source": [
        "def ReLU(x):\n",
        "    mask=(x>0) * 1.0;\n",
        "    return mask *x;"
      ],
      "execution_count": 0,
      "outputs": []
    },
    {
      "cell_type": "markdown",
      "metadata": {
        "id": "DUQMaB7a1Ckr",
        "colab_type": "text"
      },
      "source": [
        "### Defining a function to calculate the derivative of the ReLU function."
      ]
    },
    {
      "cell_type": "code",
      "metadata": {
        "id": "BtVSkJUP1AYt",
        "colab_type": "code",
        "colab": {}
      },
      "source": [
        "def der_ReLU(x):\n",
        "    mask=(x>0) * 1.0;\n",
        "    return mask;"
      ],
      "execution_count": 0,
      "outputs": []
    },
    {
      "cell_type": "markdown",
      "metadata": {
        "id": "6TRmIxcc1iQa",
        "colab_type": "text"
      },
      "source": [
        "### Defining an arctan function."
      ]
    },
    {
      "cell_type": "code",
      "metadata": {
        "id": "Y3v11qhw1deK",
        "colab_type": "code",
        "colab": {}
      },
      "source": [
        "def arctan(x):\n",
        "  return np.arctan(x);"
      ],
      "execution_count": 0,
      "outputs": []
    },
    {
      "cell_type": "markdown",
      "metadata": {
        "id": "fb9ZWn2c1wY0",
        "colab_type": "text"
      },
      "source": [
        "### Defining a function to calculate the derivative of the arctan function."
      ]
    },
    {
      "cell_type": "code",
      "metadata": {
        "id": "SsU6TPE11vh3",
        "colab_type": "code",
        "colab": {}
      },
      "source": [
        "def der_arctan(x):\n",
        "  return 1/(1 + x**2);"
      ],
      "execution_count": 0,
      "outputs": []
    },
    {
      "cell_type": "markdown",
      "metadata": {
        "id": "au57_DUn3WgO",
        "colab_type": "text"
      },
      "source": [
        "### Defining a sigmoid function."
      ]
    },
    {
      "cell_type": "code",
      "metadata": {
        "id": "OecrI8Sz3SM4",
        "colab_type": "code",
        "colab": {}
      },
      "source": [
        "def sigmoid(x):\n",
        "  return (1/(1+np.exp(-1*x)));"
      ],
      "execution_count": 0,
      "outputs": []
    },
    {
      "cell_type": "markdown",
      "metadata": {
        "id": "vUXvwsTc3tsw",
        "colab_type": "text"
      },
      "source": [
        "### Defining a function to calculate the derivative of sigmoid function."
      ]
    },
    {
      "cell_type": "code",
      "metadata": {
        "id": "1anApZrQ3ioF",
        "colab_type": "code",
        "colab": {}
      },
      "source": [
        "def der_sigmoid(x):\n",
        "  return sigmoid(x)*(1-sigmoid(x));"
      ],
      "execution_count": 0,
      "outputs": []
    },
    {
      "cell_type": "markdown",
      "metadata": {
        "id": "ipibyatw4nWC",
        "colab_type": "text"
      },
      "source": [
        "### Defining a tanh function.\n"
      ]
    },
    {
      "cell_type": "code",
      "metadata": {
        "id": "BCM-ylmH3889",
        "colab_type": "code",
        "colab": {}
      },
      "source": [
        "def tanh(x):\n",
        "  return np.tanh(x);\n"
      ],
      "execution_count": 0,
      "outputs": []
    },
    {
      "cell_type": "markdown",
      "metadata": {
        "id": "_-PCje_y4vq9",
        "colab_type": "text"
      },
      "source": [
        "### Defining a function to calculate the derivative of the tanh function."
      ]
    },
    {
      "cell_type": "code",
      "metadata": {
        "id": "JPqCw0ru4u-j",
        "colab_type": "code",
        "colab": {}
      },
      "source": [
        "def der_tanh(x):\n",
        "  return 1 - (np.tanh(x)**2);"
      ],
      "execution_count": 0,
      "outputs": []
    },
    {
      "cell_type": "markdown",
      "metadata": {
        "id": "DHl3YGPP5W7p",
        "colab_type": "text"
      },
      "source": [
        "### Defining a utility function to plot the samples (taken directly from stack overflow)"
      ]
    },
    {
      "cell_type": "code",
      "metadata": {
        "id": "NdksD3vz5B0l",
        "colab_type": "code",
        "colab": {}
      },
      "source": [
        "def plot(samples):\n",
        "    fig = plt.figure(figsize=(4, 4))\n",
        "    gs = gridspec.GridSpec(4, 4)\n",
        "    gs.update(wspace=0.05, hspace=0.05)\n",
        "\n",
        "    for i, sample in enumerate(samples):\n",
        "        ax = plt.subplot(gs[i])\n",
        "        plt.axis('off')\n",
        "        ax.set_xticklabels([])\n",
        "        ax.set_yticklabels([])\n",
        "        ax.set_aspect('equal')\n",
        "        plt.imshow(sample.reshape(28, 28), cmap='Greys_r')\n",
        "\n",
        "    return fig"
      ],
      "execution_count": 0,
      "outputs": []
    },
    {
      "cell_type": "markdown",
      "metadata": {
        "id": "fVPp23tQ51eQ",
        "colab_type": "text"
      },
      "source": [
        "### 1. Loading Data and declaring hyperparamters"
      ]
    },
    {
      "cell_type": "code",
      "metadata": {
        "id": "kdo1FwFc5pBM",
        "colab_type": "code",
        "outputId": "3bfc53e8-d066-47b9-fed3-0ef46bf217c4",
        "colab": {
          "base_uri": "https://localhost:8080/",
          "height": 119
        }
      },
      "source": [
        "print(\"----------------Load Data-------------------\");\n",
        "mnist=input_data.read_data_sets('MNIST_data', one_hot=False);\n",
        "temp=mnist.test;\n",
        "images, labels=temp.images, temp.labels;\n",
        "images, labels=shuffle(np.asarray(images),np.asarray(labels));\n",
        "num_epochs=100;\n",
        "learning_rate=0.00009;\n",
        "G_input=100;\n",
        "hidden_input,hidden_input2,hidden_input3=128,256,346;\n",
        "hidden_input4,hidden_input5,hidden_input6=480,560,686;\n",
        "\n",
        "\n",
        "print('--------- Declare Hyper Parameters ----------')\n",
        "### declaring weights\n",
        "D_W1=np.random.normal(size=(784, hidden_input), scale=(1./np.sqrt(784/2.)))*0.002;\n",
        "D_b1=np.zeros(hidden_input);\n",
        "\n",
        "D_W2=np.random.normal(size=(hidden_input, 1), scale=(1./np.sqrt(hidden_input/2.)))*0.002;\n",
        "D_b2=np.zeros(1);\n",
        "\n",
        "\n",
        "G_W1=np.random.normal(size=(G_input,hidden_input), scale=(1. / np.sqrt(G_input / 2.)))*0.002;\n",
        "G_b1=np.zeros(hidden_input);\n",
        "\n",
        "G_W2=np.random.normal(size=(hidden_input,hidden_input2),scale=(1. / np.sqrt(hidden_input / 2.)))*0.002;\n",
        "G_b2=np.zeros(hidden_input2);\n",
        "\n",
        "G_W3=np.random.normal(size=(hidden_input2,hidden_input3),scale=(1. / np.sqrt(hidden_input2 / 2.)))*0.002;\n",
        "G_b3=np.zeros(hidden_input3);\n",
        "\n",
        "G_W4=np.random.normal(size=(hidden_input3,hidden_input4),scale=(1. / np.sqrt(hidden_input3 / 2.)))*0.002;\n",
        "G_b4=np.zeros(hidden_input4);\n",
        "\n",
        "G_W5=np.random.normal(size=(hidden_input4,hidden_input5),scale=(1. / np.sqrt(hidden_input4 / 2.)))*0.002;\n",
        "G_b5=np.zeros(hidden_input5);\n",
        "\n",
        "\n",
        "G_W6=np.random.normal(size=(hidden_input5,hidden_input6),scale=(1. / np.sqrt(hidden_input5 / 2.)))*0.002;\n",
        "G_b6=np.zeros(hidden_input6);\n",
        "\n",
        "G_W7=np.random.normal(size=(hidden_input6,784),scale=(1. / np.sqrt(hidden_input6 / 2.)))*0.002;\n",
        "G_b7=np.zeros(784);\n",
        "\n",
        "\n",
        "### Fr Adam Optimzier\n",
        "v1,m1=0,0;\n",
        "v2,m2=0,0;\n",
        "v3,m3=0,0;\n",
        "v4,m4=0,0;\n",
        "\n",
        "v5,m5=0,0;\n",
        "v6,m6=0,0;\n",
        "v7,m7=0,0;\n",
        "v8,m8=0,0;\n",
        "v9,m9=0,0;\n",
        "v10,m10=0,0;\n",
        "v11,m11=0,0;\n",
        "v12,m12=0,0;\n",
        "\n",
        "v13,m13=0,0;\n",
        "v14,m14=0,0;\n",
        "\n",
        "v15,m15=0,0;\n",
        "v16,m16=0,0;\n",
        "\n",
        "v17,m17=0,0;\n",
        "v18,m18=0,0;\n",
        "\n",
        "\n",
        "beta_1,beta_2,eps=0.9,0.999,0.00000001;\n",
        "\n",
        "\n",
        "\n",
        "  \n",
        "  "
      ],
      "execution_count": 49,
      "outputs": [
        {
          "output_type": "stream",
          "text": [
            "----------------Load Data-------------------\n",
            "Extracting MNIST_data/train-images-idx3-ubyte.gz\n",
            "Extracting MNIST_data/train-labels-idx1-ubyte.gz\n",
            "Extracting MNIST_data/t10k-images-idx3-ubyte.gz\n",
            "Extracting MNIST_data/t10k-labels-idx1-ubyte.gz\n",
            "--------- Declare Hyper Parameters ----------\n"
          ],
          "name": "stdout"
        }
      ]
    },
    {
      "cell_type": "markdown",
      "metadata": {
        "id": "iVVhcA5QN7DD",
        "colab_type": "text"
      },
      "source": [
        "### Training the GAN"
      ]
    },
    {
      "cell_type": "code",
      "metadata": {
        "id": "Ahw_aqNWBl4X",
        "colab_type": "code",
        "outputId": "7669b2ca-70e1-418f-fb57-b549799a74b2",
        "colab": {
          "base_uri": "https://localhost:8080/",
          "height": 1000
        }
      },
      "source": [
        "print('--------- Started Training ----------')\n",
        "for iter in range(num_epochs):\n",
        "  \n",
        "  ### getting a random real image\n",
        "  random_int=np.random.randint(len(images));\n",
        "  current_image=np.expand_dims(images[random_int], axis=0);\n",
        "  \n",
        "  \n",
        "  ### generating a fake image\n",
        "  Z=np.random.uniform(-1., 1., size=[1, G_input]);\n",
        "  Gl1=Z.dot(G_W1)+G_b1;\n",
        "  Gl1A=arctan(Gl1);\n",
        "  Gl2=Gl1A.dot(G_W2)+G_b2;\n",
        "  Gl2A=ReLU(Gl2);\n",
        "  Gl3=Gl2A.dot(G_W3) + G_b3;\n",
        "  Gl3A=arctan(Gl3);\n",
        "  Gl4=Gl3A.dot(G_W4) + G_b4;\n",
        "  Gl4A=ReLU(Gl4);\n",
        "  Gl5=Gl4A.dot(G_W5) + G_b5;\n",
        "  Gl5A=tanh(Gl5)\n",
        "  Gl6=Gl5A.dot(G_W6) + G_b6;\n",
        "  Gl6A=ReLU(Gl6);\n",
        "  Gl7=Gl6A.dot(G_W7) + G_b7;\n",
        "  current_fake_data= sigmoid(Gl7);\n",
        "  \n",
        "  ### Forward Feed for Real data\n",
        "  Dl1_r=current_image.dot(D_W1) + D_b1;\n",
        "  Dl1_rA=ReLU(Dl1_r);\n",
        "  Dl2_r=Dl1_rA.dot(D_W2) + D_b2;\n",
        "  Dl2_rA=sigmoid(Dl2_r);\n",
        "  \n",
        "  ### Forward Feed for Fake data\n",
        "  Dl1_f=current_fake_data.dot(D_W1) + D_b1;\n",
        "  Dl1_fA=ReLU(Dl1_f);\n",
        "  Dl2_f=Dl1_fA.dot(D_W2) + D_b2;\n",
        "  Dl2_fA=sigmoid(Dl2_f);\n",
        "  \n",
        "  ### cost D\n",
        "  D_cost=-np.log(Dl2_rA) + np.log(1.0- Dl2_fA);\n",
        "  \n",
        "  ### calculating the gradients for the discriminator\n",
        "  grad_f_w2_part_1=1/(1.0-Dl2_fA);\n",
        "  grad_f_w2_part_2=der_sigmoid(Dl2_f);\n",
        "  grad_f_w2_part_3=Dl1_fA;\n",
        "  grad_f_w2=grad_f_w2_part_3.T.dot(grad_f_w2_part_1 * grad_f_w2_part_2);\n",
        "  grad_f_b2=grad_f_w2_part_1 * grad_f_w2_part_2;\n",
        "  \n",
        "  grad_f_w1_part_1=(grad_f_w2_part_1 * grad_f_w2_part_2).dot(D_W2.T);\n",
        "  grad_f_w1_part_2=der_ReLU(Dl1_f);\n",
        "  grad_f_w1_part_3=current_fake_data;\n",
        "  grad_f_w1=grad_f_w1_part_3.T.dot(grad_f_w1_part_1 * grad_f_w1_part_2);\n",
        "  grad_f_b1=grad_f_w1_part_1 * grad_f_w1_part_2;\n",
        "  \n",
        "  \n",
        "  grad_r_w2_part_1=-1/Dl2_rA;\n",
        "  grad_r_w2_part_2=der_sigmoid(Dl2_r);\n",
        "  grad_r_w2_part_3=Dl1_rA;\n",
        "  grad_r_w2=grad_r_w2_part_3.T.dot(grad_r_w2_part_1 * grad_r_w2_part_2); \n",
        "  grad_r_b2=grad_r_w2_part_1 * grad_r_w2_part_2;\n",
        "  \n",
        "  grad_r_w1_part_1=(grad_r_w2_part_1 * grad_r_w2_part_2).dot(D_W2.T);\n",
        "  grad_r_w1_part_2=der_ReLU(Dl1_r);\n",
        "  grad_r_w1_part_3=current_image;\n",
        "  grad_r_w1=grad_r_w1_part_3.T.dot(grad_r_w1_part_1 * grad_r_w1_part_2);\n",
        "  grad_r_b1=grad_r_w1_part_1 * grad_r_w1_part_2;\n",
        "  \n",
        "  grad_w1=grad_f_w1+grad_r_w1;\n",
        "  grad_b1=grad_f_b1+grad_r_b1;\n",
        "  \n",
        "  grad_w2=grad_f_w2 + grad_r_w2;\n",
        "  grad_b2 =grad_f_b2 + grad_r_b2;\n",
        "  \n",
        "  ### gradient update\n",
        "  m1=beta_1*m1+(1 - beta_1)*grad_w1;\n",
        "  v1=beta_2*v1+(1-beta_2)*grad_w1 ** 2;\n",
        "  m2=beta_1 * m2 + (1 - beta_1) * grad_b1;\n",
        "  v2=beta_2 * v2 + (1 - beta_2) * grad_b1 ** 2;\n",
        "  m3=beta_1 * m3 + (1 - beta_1) * grad_w2;\n",
        "  v3=beta_2 * v3 + (1 - beta_2) * grad_w2 ** 2;\n",
        "  m4=beta_1 * m4 + (1 - beta_1) * grad_b2;\n",
        "  v4=beta_2 * v4 + (1 - beta_2) * grad_b2 ** 2;\n",
        "  \n",
        "  D_W1=D_W1 - (learning_rate / (np.sqrt(v1 /(1-beta_2) ) + eps)) * (m1/(1-beta_1));\n",
        "  D_b1=D_b1 - (learning_rate / (np.sqrt(v2 /(1-beta_2) ) + eps)) * (m2/(1-beta_1));\n",
        "  D_W2=D_W2 - (learning_rate / (np.sqrt(v3 /(1-beta_2) ) + eps)) * (m3/(1-beta_1));\n",
        "  D_b2=D_b2 - (learning_rate / (np.sqrt(v4 /(1-beta_2) ) + eps)) * (m4/(1-beta_1));\n",
        "  \n",
        "  ### feed forwad for G\n",
        "  Z=np.random.uniform(-1., 1., size=[1, G_input]);\n",
        "  Gl1=Z.dot(G_W1)+G_b1;\n",
        "  Gl1A=arctan(Gl1);\n",
        "  Gl2=Gl1A.dot(G_W2)+G_b2;\n",
        "  Gl2A=ReLU(Gl2);\n",
        "  Gl3=Gl2A.dot(G_W3)+G_b3;\n",
        "  Gl3A=arctan(Gl3);\n",
        "  Gl4=Gl3A.dot(G_W4)+G_b4;\n",
        "  Gl4A=ReLU(Gl4);\n",
        "  Gl5=Gl4A.dot(G_W5)+G_b5;\n",
        "  Gl5A=tanh(Gl5);\n",
        "  Gl6=Gl5A.dot(G_W6)+G_b6;\n",
        "  Gl6A=ReLU(Gl6);\n",
        "  Gl7=Gl6A.dot(G_W7)+G_b7;\n",
        "  current_fake_data=sigmoid(Gl7);\n",
        "  Dl1=current_fake_data.dot(D_W1)+D_b1;\n",
        "  Dl1_A=ReLU(Dl1);\n",
        "  Dl2=Dl1_A.dot(D_W2)+D_b2;\n",
        "  Dl2_A=sigmoid(Dl2);\n",
        "  \n",
        "  ### cost function for G\n",
        "  G_cost=-np.log(Dl2_A);\n",
        "  \n",
        "  \n",
        "  ### computing gradients for G\n",
        "  grad_G_w7_part_1=((-1/Dl2_A) * der_sigmoid(Dl2).dot(D_W2.T) * (der_ReLU(Dl1))).dot(D_W1.T);\n",
        "  grad_G_w7_part_2=der_sigmoid(Gl7);\n",
        "  grad_G_w7_part_3=Gl6A;\n",
        "  grad_G_w7=grad_G_w7_part_3.T.dot(grad_G_w7_part_1 * grad_G_w7_part_1);\n",
        "  grad_G_b7=grad_G_w7_part_1 * grad_G_w7_part_2;\n",
        "  \n",
        "  grad_G_w6_part_1=(grad_G_w7_part_1 * grad_G_w7_part_2).dot(G_W7.T);\n",
        "  grad_G_w6_part_2=der_ReLU(Gl6);\n",
        "  grad_G_w6_part_3=Gl5A;\n",
        "  grad_G_w6=grad_G_w6_part_3.T.dot(grad_G_w6_part_1 * grad_G_w6_part_2);\n",
        "  grad_G_b6=(grad_G_w6_part_1 * grad_G_w6_part_2);\n",
        "  \n",
        "  grad_G_w5_part_1=(grad_G_w6_part_1 * grad_G_w6_part_2).dot(G_W6.T);\n",
        "  grad_G_w5_part_2=der_tanh(Gl5);\n",
        "  grad_G_w5_part_3=Gl4A;\n",
        "  grad_G_w5=grad_G_w5_part_3.T.dot(grad_G_w5_part_1 * grad_G_w5_part_2);\n",
        "  grad_G_b5=(grad_G_w5_part_1 * grad_G_w5_part_2);\n",
        "  \n",
        "  grad_G_w4_part_1=(grad_G_w5_part_1 * grad_G_w5_part_2).dot(G_W5.T);\n",
        "  grad_G_w4_part_2=der_ReLU(Gl4);\n",
        "  grad_G_w4_part_3=Gl3A;\n",
        "  grad_G_w4=grad_G_w4_part_3.T.dot(grad_G_w4_part_1 * grad_G_w4_part_2);\n",
        "  grad_G_b4=(grad_G_w4_part_1 * grad_G_w4_part_2);\n",
        "  \n",
        "  grad_G_w3_part_1=(grad_G_w4_part_1 * grad_G_w4_part_2).dot(G_W4.T);\n",
        "  grad_G_w3_part_2=der_arctan(Gl3);\n",
        "  grad_G_w3_part_3=Gl2A;\n",
        "  grad_G_w3=grad_G_w3_part_3.T.dot(grad_G_w3_part_1 * grad_G_w3_part_2);\n",
        "  grad_G_b3=(grad_G_w3_part_1 * grad_G_w3_part_2);\n",
        "\n",
        "  grad_G_w2_part_1=(grad_G_w3_part_1 * grad_G_w3_part_2).dot(G_W3.T);\n",
        "  grad_G_w2_part_2=der_ReLU(Gl2);\n",
        "  grad_G_w2_part_3=Gl1A;\n",
        "  grad_G_w2=grad_G_w2_part_3.T.dot(grad_G_w2_part_1 * grad_G_w2_part_2);\n",
        "  grad_G_b2=(grad_G_w2_part_1 * grad_G_w2_part_2);\n",
        "  \n",
        "  grad_G_w1_part_1=(grad_G_w2_part_1 * grad_G_w2_part_2).dot(G_W2.T)\n",
        "  grad_G_w1_part_2=der_arctan(Gl1);\n",
        "  grad_G_w1_part_3=Z;\n",
        "  grad_G_w1=grad_G_w1_part_3.T.dot(grad_G_w1_part_1 * grad_G_w1_part_2);\n",
        "  grad_G_b1=grad_G_w1_part_1 * grad_G_w1_part_2;\n",
        "  \n",
        "  \n",
        "  ### updating gradients\n",
        "  m5=beta_1 * m5 + (1 - beta_1) * grad_G_w1;\n",
        "  v5=beta_2 * v5 + (1 - beta_2) * grad_G_w1 ** 2;\n",
        "\n",
        "  m6=beta_1 * m6 + (1 - beta_1) * grad_G_b1;\n",
        "  v6=beta_2 * v6 + (1 - beta_2) * grad_G_b1 ** 2;\n",
        "\n",
        "  m7=beta_1 * m7 + (1 - beta_1) * grad_G_w2;\n",
        "  v7=beta_2 * v7 + (1 - beta_2) * grad_G_w2 ** 2;\n",
        "\n",
        "  m8=beta_1 * m8 + (1 - beta_1) * grad_G_b2;\n",
        "  v8=beta_2 * v8 + (1 - beta_2) * grad_G_b2 ** 2;\n",
        "\n",
        "  m9=beta_1 * m9 + (1 - beta_1) * grad_G_w3;\n",
        "  v9=beta_2 * v9 + (1 - beta_2) * grad_G_w3 ** 2;\n",
        "\n",
        "  m10=beta_1 * m10 + (1 - beta_1) * grad_G_b3;\n",
        "  v10=beta_2 * v10 + (1 - beta_2) * grad_G_b3 ** 2;\n",
        "\n",
        "  m11=beta_1 * m11 + (1 - beta_1) * grad_G_w4;\n",
        "  v11=beta_2 * v11 + (1 - beta_2) * grad_G_w4 ** 2;\n",
        "\n",
        "  m12=beta_1 * m12 + (1 - beta_1) * grad_G_b4;\n",
        "  v12=beta_2 * v12 + (1 - beta_2) * grad_G_b4 ** 2;\n",
        "\n",
        "  m13=beta_1 * m13 + (1 - beta_1) * grad_G_w5;\n",
        "  v13=beta_2 * v13 + (1 - beta_2) * grad_G_w5 ** 2;\n",
        "\n",
        "  m14=beta_1 * m14 + (1 - beta_1) * grad_G_b5;\n",
        "  v14=beta_2 * v14 + (1 - beta_2) * grad_G_b5 ** 2;\n",
        "\n",
        "  m15=beta_1 * m15 + (1 - beta_1) * grad_G_w6;\n",
        "  v15=beta_2 * v15 + (1 - beta_2) * grad_G_w6 ** 2;\n",
        "\n",
        "  m16=beta_1 * m16 + (1 - beta_1) * grad_G_b6;\n",
        "  v16=beta_2 * v16 + (1 - beta_2) * grad_G_b6 ** 2;\n",
        "\n",
        "  m17=beta_1 * m17 + (1 - beta_1) * grad_G_w7;\n",
        "  v17=beta_2 * v17 + (1 - beta_2) * grad_G_w7 ** 2;\n",
        "\n",
        "  m18=beta_1 * m18 + (1 - beta_1) * grad_G_b7;\n",
        "  v18=beta_2 * v18 + (1 - beta_2) * grad_G_b7 ** 2;\n",
        "\n",
        "  G_W1=G_W1 - (learning_rate / (np.sqrt(v5 /(1-beta_2) ) + eps)) * (m5/(1-beta_1));\n",
        "  G_b1=G_b1 - (learning_rate / (np.sqrt(v6 /(1-beta_2) ) + eps)) * (m6/(1-beta_1));\n",
        "    \n",
        "  G_W2=G_W2 - (learning_rate / (np.sqrt(v7 /(1-beta_2) ) + eps)) * (m7/(1-beta_1));\n",
        "  G_b2=G_b2 - (learning_rate / (np.sqrt(v8 /(1-beta_2) ) + eps)) * (m8/(1-beta_1));\n",
        "\n",
        "  G_W3=G_W3 - (learning_rate / (np.sqrt(v9 /(1-beta_2) ) + eps)) * (m9/(1-beta_1));\n",
        "  G_b3=G_b3 - (learning_rate / (np.sqrt(v10 /(1-beta_2) ) + eps)) * (m10/(1-beta_1));\n",
        "\n",
        "  G_W4=G_W4 - (learning_rate / (np.sqrt(v11 /(1-beta_2) ) + eps)) * (m11/(1-beta_1));\n",
        "  G_b4=G_b4 - (learning_rate / (np.sqrt(v12 /(1-beta_2) ) + eps)) * (m12/(1-beta_1));\n",
        "\n",
        "  G_W5=G_W5 - (learning_rate / (np.sqrt(v13 /(1-beta_2) ) + eps)) * (m13/(1-beta_1));\n",
        "  G_b5=G_b5 - (learning_rate / (np.sqrt(v14 /(1-beta_2) ) + eps)) * (m14/(1-beta_1));\n",
        "\n",
        "  G_W6=G_W6 - (learning_rate / (np.sqrt(v15 /(1-beta_2) ) + eps)) * (m15/(1-beta_1));\n",
        "  G_b6=G_b6 - (learning_rate / (np.sqrt(v16 /(1-beta_2) ) + eps)) * (m16/(1-beta_1));\n",
        "\n",
        "  G_W7=G_W7 - (learning_rate / (np.sqrt(v17 /(1-beta_2) ) + eps)) * (m17/(1-beta_1));\n",
        "  G_b7=G_b7 - (learning_rate / (np.sqrt(v18 /(1-beta_2) ) + eps)) * (m18/(1-beta_1));\n",
        "  \n",
        "  \n",
        "  if iter == 0:\n",
        "        learning_rate = learning_rate * 0.01\n",
        "  if iter == 40:\n",
        "        learning_rate = learning_rate * 0.01\n",
        "      \n",
        "  if iter%10 == 0:\n",
        "        print(\"Current Iter: \",iter, \" Current D cost:\",D_cost, \" Current G cost: \", G_cost,end='\\r')\n",
        "        print('--------- Wait for the image to load ---------')\n",
        "        Z = np.random.uniform(-1., 1., size=[16, G_input]) \n",
        "\n",
        "        Gl1 = Z.dot(G_W1) + G_b1\n",
        "        Gl1A = arctan(Gl1)\n",
        "        Gl2 = Gl1A.dot(G_W2) + G_b2\n",
        "        Gl2A = ReLU(Gl2)\n",
        "        Gl3 = Gl2A.dot(G_W3) + G_b3\n",
        "        Gl3A = arctan(Gl3)\n",
        "\n",
        "        Gl4 = Gl3A.dot(G_W4) + G_b4\n",
        "        Gl4A = ReLU(Gl4)\n",
        "        Gl5 = Gl4A.dot(G_W5) + G_b5\n",
        "        Gl5A = tanh(Gl5)\n",
        "        Gl6 = Gl5A.dot(G_W6) + G_b6\n",
        "        Gl6A = ReLU(Gl6)\n",
        "        Gl7 = Gl6A.dot(G_W7) + G_b7\n",
        "        \n",
        "        current_fake_data=sigmoid(Gl7)\n",
        "        \n",
        "        fig = plot(current_fake_data)\n",
        "        fig.savefig('Click_Me_{}.png'.format(str(iter).zfill(3)+\"_Ginput_\"+str(G_input)+ \\\n",
        "        \"_hiddenone\"+str(hidden_input) + \"_hiddentwo\"+str(hidden_input2) + \"_LR_\" + str(learning_rate)\n",
        "        ), bbox_inches='tight')"
      ],
      "execution_count": 50,
      "outputs": [
        {
          "output_type": "stream",
          "text": [
            "--------- Started Training ----------\n",
            "--------- Wait for the image to load ---------\n",
            "--------- Wait for the image to load ---------\n",
            "--------- Wait for the image to load ---------\n",
            "--------- Wait for the image to load ---------\n",
            "--------- Wait for the image to load ---------\n",
            "--------- Wait for the image to load ---------\n",
            "--------- Wait for the image to load ---------\n",
            "--------- Wait for the image to load ---------\n",
            "--------- Wait for the image to load ---------\n",
            "--------- Wait for the image to load ---------\n"
          ],
          "name": "stdout"
        },
        {
          "output_type": "display_data",
          "data": {
            "image/png": "[encoded data removed]",
            "text/plain": [
              "<Figure size 288x288 with 16 Axes>"
            ]
          },
          "metadata": {
            "tags": []
          }
        },
        {
          "output_type": "display_data",
          "data": {
            "image/png": "[encoded data removed]",
            "text/plain": [
              "<Figure size 288x288 with 16 Axes>"
            ]
          },
          "metadata": {
            "tags": []
          }
        },
        {
          "output_type": "display_data",
          "data": {
            "image/png": "[encoded data removed]",
            "text/plain": [
              "<Figure size 288x288 with 16 Axes>"
            ]
          },
          "metadata": {
            "tags": []
          }
        },
        {
          "output_type": "display_data",
          "data": {
            "image/png": "[encoded data removed]",
            "text/plain": [
              "<Figure size 288x288 with 16 Axes>"
            ]
          },
          "metadata": {
            "tags": []
          }
        },
        {
          "output_type": "display_data",
          "data": {
            "image/png": "[encoded data removed]",
            "text/plain": [
              "<Figure size 288x288 with 16 Axes>"
            ]
          },
          "metadata": {
            "tags": []
          }
        },
        {
          "output_type": "display_data",
          "data": {
            "image/png": "[encoded data removed]",
            "text/plain": [
              "<Figure size 288x288 with 16 Axes>"
            ]
          },
          "metadata": {
            "tags": []
          }
        },
        {
          "output_type": "display_data",
          "data": {
            "image/png": "[encoded data removed]",
            "text/plain": [
              "<Figure size 288x288 with 16 Axes>"
            ]
          },
          "metadata": {
            "tags": []
          }
        },
        {
          "output_type": "display_data",
          "data": {
            "image/png": "[encoded data removed]",
            "text/plain": [
              "<Figure size 288x288 with 16 Axes>"
            ]
          },
          "metadata": {
            "tags": []
          }
        },
        {
          "output_type": "display_data",
          "data": {
            "image/png": "[encoded data removed]",
            "text/plain": [
              "<Figure size 288x288 with 16 Axes>"
            ]
          },
          "metadata": {
            "tags": []
          }
        },
        {
          "output_type": "display_data",
          "data": {
            "image/png": "[encoded data removed]",
            "text/plain": [
              "<Figure size 288x288 with 16 Axes>"
            ]
          },
          "metadata": {
            "tags": []
          }
        }
      ]
    },
    {
      "cell_type": "code",
      "metadata": {
        "id": "NhNF9KLON_7_",
        "colab_type": "code",
        "colab": {}
      },
      "source": [
        ""
      ],
      "execution_count": 0,
      "outputs": []
    }
  ]
}